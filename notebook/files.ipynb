{
 "cells": [
  {
   "cell_type": "code",
   "execution_count": 11,
   "metadata": {},
   "outputs": [
    {
     "name": "stdout",
     "output_type": "stream",
     "text": [
      "Hello world!\n",
      "\n",
      "Some string\n",
      "\n",
      "Another text\n"
     ]
    }
   ],
   "source": [
    "file = open('data/read.txt')\n",
    "\n",
    "print(file.readline())\n",
    "print(file.readline())\n",
    "print(file.readline())\n",
    "\n",
    "file.close()"
   ]
  },
  {
   "cell_type": "code",
   "execution_count": 12,
   "metadata": {},
   "outputs": [
    {
     "name": "stdout",
     "output_type": "stream",
     "text": [
      "['Hello world!\\n', 'Some string\\n']\n",
      "['Another text\\n', 'Hello world!\\n', 'Some string\\n']\n",
      "['Another text\\n', 'Hello world!\\n', 'Some string\\n', 'Another text']\n"
     ]
    }
   ],
   "source": [
    "file = open('data/read.txt')\n",
    "\n",
    "print(file.readlines(16))\n",
    "print(file.readlines(32))\n",
    "print(file.readlines(64))\n",
    "\n",
    "file.close()"
   ]
  },
  {
   "cell_type": "code",
   "execution_count": 13,
   "metadata": {},
   "outputs": [
    {
     "name": "stdout",
     "output_type": "stream",
     "text": [
      "Hello world!\n",
      "Some string\n",
      "Another text\n",
      "Hello world!\n",
      "Some string\n",
      "Another text\n",
      "Hello world!\n",
      "Some string\n",
      "Another text\n"
     ]
    }
   ],
   "source": [
    "file = open('data/read.txt')\n",
    "\n",
    "print(file.read())\n",
    "\n",
    "file.close()"
   ]
  },
  {
   "cell_type": "code",
   "execution_count": 14,
   "metadata": {},
   "outputs": [
    {
     "name": "stdout",
     "output_type": "stream",
     "text": [
      "Hello world!\n",
      "\n",
      "Some string\n",
      "\n",
      "Another text\n",
      "\n",
      "Hello world!\n",
      "\n",
      "Some string\n",
      "\n",
      "Another text\n",
      "\n",
      "Hello world!\n",
      "\n",
      "Some string\n",
      "\n",
      "Another text\n"
     ]
    }
   ],
   "source": [
    "with open('data/read.txt') as file:\n",
    "    for row in file:\n",
    "        print(row)"
   ]
  },
  {
   "cell_type": "code",
   "execution_count": 18,
   "metadata": {},
   "outputs": [],
   "source": [
    "with open('data/write.txt', 'w') as file:\n",
    "    file.write('Hello world!\\n')"
   ]
  },
  {
   "cell_type": "code",
   "execution_count": 19,
   "metadata": {},
   "outputs": [],
   "source": [
    "with open('data/write.txt', 'a') as file:\n",
    "    file.write('Another text\\n')"
   ]
  },
  {
   "cell_type": "code",
   "execution_count": 20,
   "metadata": {},
   "outputs": [
    {
     "name": "stdout",
     "output_type": "stream",
     "text": [
      "test\n"
     ]
    }
   ],
   "source": [
    "class SampleContextManager:\n",
    "    def __enter__(self, *args, **kwargs):\n",
    "        return 'test'\n",
    "    \n",
    "    def __exit__(self, err, *args, **kwargs):\n",
    "        pass\n",
    "    \n",
    "with SampleContextManager() as manager:\n",
    "    print(manager)"
   ]
  },
  {
   "cell_type": "code",
   "execution_count": 21,
   "metadata": {},
   "outputs": [
    {
     "name": "stdout",
     "output_type": "stream",
     "text": [
      "Hello world!\n",
      "Another text\n",
      "\n",
      "Hello world!\n",
      "Another text\n",
      "Some string\n",
      "\n"
     ]
    }
   ],
   "source": [
    "with open('data/write.txt', 'r+') as file:\n",
    "    print(file.read())\n",
    "    file.writelines(['Some string\\n'])\n",
    "    file.seek(0)\n",
    "    print(file.read())"
   ]
  },
  {
   "cell_type": "code",
   "execution_count": 23,
   "metadata": {},
   "outputs": [
    {
     "name": "stdout",
     "output_type": "stream",
     "text": [
      "b'Hello world!\\nAnother text\\nSome string\\n'\n",
      "b'Hello world!\\nAnother text\\nSome string\\nAbsolutely another text\\n'\n"
     ]
    }
   ],
   "source": [
    "with open('data/write.txt', 'rb+') as file:\n",
    "    print(file.read())\n",
    "    file.writelines([b'Absolutely another text\\n'])\n",
    "    file.seek(0)\n",
    "    print(file.read())"
   ]
  },
  {
   "cell_type": "code",
   "execution_count": 24,
   "metadata": {},
   "outputs": [
    {
     "name": "stdout",
     "output_type": "stream",
     "text": [
      "b'Hello world!\\nAnother text\\nSome string\\nAbsolutely another text\\n'\n",
      "b'Hello world!\\nAnother text\\nSome \\n\\ntext\\nAbsolutely another text\\n'\n"
     ]
    }
   ],
   "source": [
    "import os\n",
    "\n",
    "file_size = os.stat('data/write.txt').st_size\n",
    "file_middle = file_size//2\n",
    "\n",
    "with open('data/write.txt', 'rb+') as file:\n",
    "    print(file.read())\n",
    "    file.seek(file_middle)\n",
    "    file.writelines([b'\\n\\ntext\\n'])\n",
    "    file.seek(0)\n",
    "    print(file.read())"
   ]
  },
  {
   "cell_type": "code",
   "execution_count": 25,
   "metadata": {},
   "outputs": [
    {
     "name": "stdout",
     "output_type": "stream",
     "text": [
      "Hello world!\n",
      "Another text\n",
      "Some \n",
      "\n",
      "text\n",
      "Absolutely another text\n",
      "\n"
     ]
    }
   ],
   "source": [
    "with open('data/write.txt', encoding='latin1') as file:\n",
    "    print(file.read())"
   ]
  },
  {
   "cell_type": "code",
   "execution_count": null,
   "metadata": {},
   "outputs": [],
   "source": []
  }
 ],
 "metadata": {
  "kernelspec": {
   "display_name": "Python 3",
   "language": "python",
   "name": "python3"
  },
  "language_info": {
   "codemirror_mode": {
    "name": "ipython",
    "version": 3
   },
   "file_extension": ".py",
   "mimetype": "text/x-python",
   "name": "python",
   "nbconvert_exporter": "python",
   "pygments_lexer": "ipython3",
   "version": "3.6.7"
  }
 },
 "nbformat": 4,
 "nbformat_minor": 2
}
