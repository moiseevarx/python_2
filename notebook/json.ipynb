{
 "cells": [
  {
   "cell_type": "code",
   "execution_count": 3,
   "metadata": {},
   "outputs": [
    {
     "name": "stdout",
     "output_type": "stream",
     "text": [
      "[{'header': 'data', 'header2': 'data2', 'header3': 'data3', 'header4': 'data4'},\n",
      " {'header': 'data', 'header2': 'data2', 'header3': 'data3', 'header4': 'data4'},\n",
      " {'header': 'data', 'header2': 'data2', 'header3': 'data3', 'header4': 'data4'},\n",
      " {'header': 'data', 'header2': 'data2', 'header3': 'data3', 'header4': 'data4'},\n",
      " {'header': 'data', 'header2': 'data2', 'header3': 'data3', 'header4': 'data4'},\n",
      " {'header': 'data', 'header2': 'data2', 'header3': 'data3', 'header4': 'data4'},\n",
      " {'header': 'data', 'header2': 'data2', 'header3': 'data3', 'header4': 'data4'}]\n"
     ]
    }
   ],
   "source": [
    "import json\n",
    "from pprint import pprint\n",
    "\n",
    "with open('data/read.json') as file:\n",
    "    pprint(json.load(file))"
   ]
  },
  {
   "cell_type": "code",
   "execution_count": 6,
   "metadata": {},
   "outputs": [
    {
     "data": {
      "text/plain": [
       "[{'header': 'data',\n",
       "  'header2': 'data2',\n",
       "  'header3': 'data3',\n",
       "  'header4': 'data4'},\n",
       " {'header': 'data',\n",
       "  'header2': 'data2',\n",
       "  'header3': 'data3',\n",
       "  'header4': 'data4'},\n",
       " {'header': 'data',\n",
       "  'header2': 'data2',\n",
       "  'header3': 'data3',\n",
       "  'header4': 'data4'},\n",
       " {'header': 'data',\n",
       "  'header2': 'data2',\n",
       "  'header3': 'data3',\n",
       "  'header4': 'data4'},\n",
       " {'header': 'data',\n",
       "  'header2': 'data2',\n",
       "  'header3': 'data3',\n",
       "  'header4': 'data4'},\n",
       " {'header': 'data',\n",
       "  'header2': 'data2',\n",
       "  'header3': 'data3',\n",
       "  'header4': 'data4'},\n",
       " {'header': 'data',\n",
       "  'header2': 'data2',\n",
       "  'header3': 'data3',\n",
       "  'header4': 'data4'}]"
      ]
     },
     "execution_count": 6,
     "metadata": {},
     "output_type": "execute_result"
    }
   ],
   "source": [
    "import json\n",
    "\n",
    "DATA = '''\n",
    "[\n",
    "  {\"header\": \"data\",\"header2\": \"data2\",\"header3\": \"data3\",\"header4\": \"data4\"},\n",
    "  {\"header\": \"data\",\"header2\": \"data2\",\"header3\": \"data3\",\"header4\": \"data4\"},\n",
    "  {\"header\": \"data\",\"header2\": \"data2\",\"header3\": \"data3\",\"header4\": \"data4\"},\n",
    "  {\"header\": \"data\",\"header2\": \"data2\",\"header3\": \"data3\",\"header4\": \"data4\"},\n",
    "  {\"header\": \"data\",\"header2\": \"data2\",\"header3\": \"data3\",\"header4\": \"data4\"},\n",
    "  {\"header\": \"data\",\"header2\": \"data2\",\"header3\": \"data3\",\"header4\": \"data4\"},\n",
    "  {\"header\": \"data\",\"header2\": \"data2\",\"header3\": \"data3\",\"header4\": \"data4\"}\n",
    "]\n",
    "'''\n",
    "\n",
    "json.loads(DATA)"
   ]
  },
  {
   "cell_type": "code",
   "execution_count": 9,
   "metadata": {},
   "outputs": [],
   "source": [
    "import json\n",
    "\n",
    "DATA = [\n",
    "  {\"header\": \"data\",\"header2\": \"data2\",\"header3\": \"data3\",\"header4\": \"data4\"},\n",
    "  {\"header\": \"data\",\"header2\": \"data2\",\"header3\": \"data3\",\"header4\": \"data4\"},\n",
    "  {\"header\": \"data\",\"header2\": \"data2\",\"header3\": \"data3\",\"header4\": \"data4\"},\n",
    "  {\"header\": \"data\",\"header2\": \"data2\",\"header3\": \"data3\",\"header4\": \"data4\"},\n",
    "  {\"header\": \"data\",\"header2\": \"data2\",\"header3\": \"data3\",\"header4\": \"data4\"},\n",
    "  {\"header\": \"data\",\"header2\": \"data2\",\"header3\": \"data3\",\"header4\": \"data4\"},\n",
    "  {\"header\": \"data\",\"header2\": \"data2\",\"header3\": \"data3\",\"header4\": \"data4\"}\n",
    "]\n",
    "\n",
    "with open('data/write.json', 'w') as file:\n",
    "    json.dump(DATA, file, indent=4)"
   ]
  },
  {
   "cell_type": "code",
   "execution_count": 10,
   "metadata": {},
   "outputs": [
    {
     "name": "stdout",
     "output_type": "stream",
     "text": [
      "('[{\"header\": \"data\", \"header2\": \"data2\", \"header3\": \"data3\", \"header4\": '\n",
      " '\"data4\"}, {\"header\": \"data\", \"header2\": \"data2\", \"header3\": \"data3\", '\n",
      " '\"header4\": \"data4\"}, {\"header\": \"data\", \"header2\": \"data2\", \"header3\": '\n",
      " '\"data3\", \"header4\": \"data4\"}, {\"header\": \"data\", \"header2\": \"data2\", '\n",
      " '\"header3\": \"data3\", \"header4\": \"data4\"}, {\"header\": \"data\", \"header2\": '\n",
      " '\"data2\", \"header3\": \"data3\", \"header4\": \"data4\"}, {\"header\": \"data\", '\n",
      " '\"header2\": \"data2\", \"header3\": \"data3\", \"header4\": \"data4\"}, {\"header\": '\n",
      " '\"data\", \"header2\": \"data2\", \"header3\": \"data3\", \"header4\": \"data4\"}]')\n"
     ]
    }
   ],
   "source": [
    "import json\n",
    "from pprint import pprint\n",
    "\n",
    "DATA = [\n",
    "  {\"header\": \"data\",\"header2\": \"data2\",\"header3\": \"data3\",\"header4\": \"data4\"},\n",
    "  {\"header\": \"data\",\"header2\": \"data2\",\"header3\": \"data3\",\"header4\": \"data4\"},\n",
    "  {\"header\": \"data\",\"header2\": \"data2\",\"header3\": \"data3\",\"header4\": \"data4\"},\n",
    "  {\"header\": \"data\",\"header2\": \"data2\",\"header3\": \"data3\",\"header4\": \"data4\"},\n",
    "  {\"header\": \"data\",\"header2\": \"data2\",\"header3\": \"data3\",\"header4\": \"data4\"},\n",
    "  {\"header\": \"data\",\"header2\": \"data2\",\"header3\": \"data3\",\"header4\": \"data4\"},\n",
    "  {\"header\": \"data\",\"header2\": \"data2\",\"header3\": \"data3\",\"header4\": \"data4\"}\n",
    "]\n",
    "\n",
    "pprint(\n",
    "    json.dumps(DATA)\n",
    ")"
   ]
  },
  {
   "cell_type": "code",
   "execution_count": 2,
   "metadata": {},
   "outputs": [
    {
     "ename": "AttributeError",
     "evalue": "'list' object has no attribute 'items'",
     "output_type": "error",
     "traceback": [
      "\u001b[0;31m---------------------------------------------------------------------------\u001b[0m",
      "\u001b[0;31mAttributeError\u001b[0m                            Traceback (most recent call last)",
      "\u001b[0;32m<ipython-input-2-a74a782eaf87>\u001b[0m in \u001b[0;36m<module>\u001b[0;34m\u001b[0m\n\u001b[1;32m      3\u001b[0m     \u001b[0mobjs\u001b[0m \u001b[0;34m=\u001b[0m \u001b[0mjson\u001b[0m\u001b[0;34m.\u001b[0m\u001b[0mload\u001b[0m\u001b[0;34m(\u001b[0m\u001b[0mfile\u001b[0m\u001b[0;34m)\u001b[0m\u001b[0;34m\u001b[0m\u001b[0;34m\u001b[0m\u001b[0m\n\u001b[1;32m      4\u001b[0m \u001b[0;34m\u001b[0m\u001b[0m\n\u001b[0;32m----> 5\u001b[0;31m \u001b[0;32mfor\u001b[0m \u001b[0msection\u001b[0m\u001b[0;34m,\u001b[0m \u001b[0mcommands\u001b[0m \u001b[0;32min\u001b[0m \u001b[0mobjs\u001b[0m\u001b[0;34m.\u001b[0m\u001b[0mitems\u001b[0m\u001b[0;34m(\u001b[0m\u001b[0;34m)\u001b[0m\u001b[0;34m:\u001b[0m\u001b[0;34m\u001b[0m\u001b[0;34m\u001b[0m\u001b[0m\n\u001b[0m\u001b[1;32m      6\u001b[0m     \u001b[0mprint\u001b[0m\u001b[0;34m(\u001b[0m\u001b[0msection\u001b[0m\u001b[0;34m)\u001b[0m\u001b[0;34m\u001b[0m\u001b[0;34m\u001b[0m\u001b[0m\n\u001b[1;32m      7\u001b[0m     \u001b[0mprint\u001b[0m\u001b[0;34m(\u001b[0m\u001b[0mcommands\u001b[0m\u001b[0;34m)\u001b[0m\u001b[0;34m\u001b[0m\u001b[0;34m\u001b[0m\u001b[0m\n",
      "\u001b[0;31mAttributeError\u001b[0m: 'list' object has no attribute 'items'"
     ]
    }
   ],
   "source": [
    "import json\n",
    "\n",
    "with open('data/read.json') as file:\n",
    "    objs = json.load(file)\n",
    "    \n",
    "for section, commands in objs.items():\n",
    "    print(section)\n",
    "    print(commands)"
   ]
  },
  {
   "cell_type": "code",
   "execution_count": null,
   "metadata": {},
   "outputs": [],
   "source": []
  }
 ],
 "metadata": {
  "kernelspec": {
   "display_name": "Python 3",
   "language": "python",
   "name": "python3"
  },
  "language_info": {
   "codemirror_mode": {
    "name": "ipython",
    "version": 3
   },
   "file_extension": ".py",
   "mimetype": "text/x-python",
   "name": "python",
   "nbconvert_exporter": "python",
   "pygments_lexer": "ipython3",
   "version": "3.6.7"
  }
 },
 "nbformat": 4,
 "nbformat_minor": 2
}
